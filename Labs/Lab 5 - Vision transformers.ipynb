{
  "nbformat": 4,
  "nbformat_minor": 0,
  "metadata": {
    "colab": {
      "provenance": [],
      "gpuType": "T4"
    },
    "kernelspec": {
      "name": "python3",
      "display_name": "Python 3"
    },
    "language_info": {
      "name": "python"
    },
    "accelerator": "GPU"
  },
  "cells": [
    {
      "cell_type": "markdown",
      "source": [
        "# Vision Transformers in PyTorch\n",
        "\n",
        "In this notebook, we will explore Vision Transformers (ViTs), a powerful deep learning architecture for image classification. ViTs leverage the self-attention mechanism from natural language processing to process image patches as sequences. Your task is to implement the encoder portion of the ViT model, which is responsible for processing the input images and extracting features from the image patches. You will implement the `Attention`, `PatchEmbed`, and part of the `VisionTransformer` classes, focusing on the `prepare_tokens` method to tokenize the input image into patches and incorporate positional encodings. The attention head and block architecture classes have been completed for you.\n",
        "\n",
        "Please read the entire notebook before starting. You may find it useful to refer to the lecture notes on sequence modelling for this task. For further background reading, you may be interested in the [original paper](https://papers.nips.cc/paper/2017/file/3f5ee243547dee91fbd053c1c4a845aa-Paper.pdf) on transformers and its [adaption to computer vision](https://arxiv.org/pdf/2010.11929)."
      ],
      "metadata": {
        "id": "zcfUnHcuGbkO"
      }
    },
    {
      "cell_type": "code",
      "execution_count": 1,
      "metadata": {
        "id": "4KtMV7jsGggV"
      },
      "outputs": [],
      "source": [
        "# basic imports\n",
        "import os\n",
        "import torch\n",
        "import torch.nn as nn\n",
        "from tqdm import tqdm\n",
        "\n",
        "import time\n",
        "import matplotlib.pyplot as plt\n",
        "import torch.nn.functional as F"
      ]
    },
    {
      "cell_type": "markdown",
      "source": [
        "## The encoder block\n",
        "\n",
        "Implement the attention head of the transformer in the below class. Note there is an option to initialise multiple attention heads. Instead of creating a separate module for each attention head and combining them, we will create a single `nn.Linear` layer to apply the weight matrices for query, key, value, with an extra dimension to accommodate all heads.\n",
        "\n",
        "To do this, initialise the `self.qkv` linear layer. Remember the input size is the number of features (dimensionality) of the model, $d_{\\textrm{model}}$. The output will be three times as large, giving us distinct weights for each of the $\\mathbf{Q}, \\mathbf{K}, \\mathbf{V}$ (query, key, value) matrices.\n",
        "1. Apply this linear layer to the input, then `reshape` its last dimension so that we have dimensions each for the $\\mathbf{Q}, \\mathbf{K}, \\mathbf{V}$ matrices, individual attention heads, and the features for each head. The result should be of shape `(B, N, 3, num_heads, C // num_heads)`.\n",
        "2. Retrieve the $\\mathbf{Q}, \\mathbf{K}, \\mathbf{V}$ matrices. It may be helpful to permute the `qkv` tensor to shape `(3, B, num_heads, N, C // num_heads)`.\n",
        "3. Compute the scaled dot-product self-attention. As a reminder, this is given by\n",
        "$$ \\mathbf{Y} = \\mathrm{Attention}(\\mathbf{Q}, \\mathbf{K}, \\mathbf{V}) = \\mathbf{softmax}\\left(\\frac{\\mathbf{Q}\\mathbf{K}^{\\top}}{\\sqrt{(D_k)}}\\right) \\mathbf{V},$$\n",
        "where $D_k$ is the dimension of the *keys*. In multi-headed attention, this is the dimensionality of the model divided by the number of heads.\n",
        "4. Ensure the output dimensions match the input dimensions using `reshape`."
      ],
      "metadata": {
        "id": "hx-_SLJeh_r3"
      }
    },
    {
      "cell_type": "code",
      "source": [
        "class Attention(nn.Module):\n",
        "    def __init__(self, dim, num_heads):\n",
        "        super().__init__()\n",
        "        self.num_heads = num_heads\n",
        "        head_dim = dim // num_heads\n",
        "        self.scale = head_dim ** -0.5 # scale factor to prevent vanishing gradients\n",
        "\n",
        "        # create linear layer, combined matrix of weights for Q, K, V\n",
        "        self.qkv = nn.Linear(dim, dim*3,bias=False)\n",
        "\n",
        "\n",
        "    def forward(self, x):\n",
        "        B, N, C = x.shape # (batch size, n_patches+1, d_model)\n",
        "        qkv = self.qkv(x)\n",
        "\n",
        "        qkv = qkv.reshape(B, N, 3, num_heads, C // num_heads)\n",
        "        qkv = qkv.permute(2, 0, 3, 1, 4)\n",
        "\n",
        "        q, k, v = qkv[0], qkv[1], qkv[2]\n",
        "\n",
        "        # compute scaled inner product QK^T\n",
        "        attn_prod = torch.matmul(q, k.transpose(-2, -1))\n",
        "        attn_prod *= self.scale\n",
        "\n",
        "        # apply softmax layer; we will save the result\n",
        "        attn_softmax = F.softmax(attn_prod, dim=-1)\n",
        "\n",
        "        # compute inner product with V\n",
        "        attn = torch.matmul(attn_softmax,v)\n",
        "\n",
        "        # reshape to match input dimensions\n",
        "        attn = attn.permute(0,1,2,3).reshape(B,N,C)\n",
        "        x = self.out(attn)\n",
        "\n",
        "        return x, attn"
      ],
      "metadata": {
        "id": "SS3qIgnDG0co"
      },
      "execution_count": 2,
      "outputs": []
    },
    {
      "cell_type": "markdown",
      "source": [
        "We have already defined the MLP (Multilayer Perceptron; fully connected feed-forward) layer, which consists of two linear transformations with a GELU (Gaussian Error Linear Unit) activation in between."
      ],
      "metadata": {
        "id": "59LTIhDsn9ga"
      }
    },
    {
      "cell_type": "code",
      "source": [
        "class Mlp(nn.Module):\n",
        "    def __init__(self, in_features, hidden_features=None, out_features=None, act_layer=nn.GELU):\n",
        "        super().__init__()\n",
        "        out_features = out_features or in_features\n",
        "        hidden_features = hidden_features or in_features\n",
        "        self.fc1 = nn.Linear(in_features, hidden_features)\n",
        "        self.act = act_layer()\n",
        "        self.fc2 = nn.Linear(hidden_features, out_features)\n",
        "\n",
        "    def forward(self, x):\n",
        "        x = self.fc1(x)\n",
        "        x = self.act(x)\n",
        "        x = self.fc2(x)\n",
        "        return x"
      ],
      "metadata": {
        "id": "mN35VKXGGuNZ"
      },
      "execution_count": 3,
      "outputs": []
    },
    {
      "cell_type": "markdown",
      "source": [
        " We'll complete the encoder block of the transformer by combining the attention head and the MLP sub-layers. Complete the `forward()` method below by adding [layer normalisation](https://pytorch.org/docs/stable/generated/torch.nn.LayerNorm.html) (*pre-norm*) to each sub-layer, followed by residual connections that bypass the multi-head structure. You may find slide 29 of your sequence modelling lecture notes helpful."
      ],
      "metadata": {
        "id": "al-E2mtSw4GH"
      }
    },
    {
      "cell_type": "code",
      "source": [
        "class Block(nn.Module):\n",
        "    def __init__(self, dim, num_heads, act_layer=nn.GELU):\n",
        "        super().__init__()\n",
        "        self.norm1 = nn.LayerNorm(dim)\n",
        "        self.attn = Attention(dim, num_heads=num_heads)\n",
        "        self.norm2 = nn.Layernorm(dim)\n",
        "        self.mlp = Mlp(in_features=dim, hidden_features=dim, act_layer=act_layer)\n",
        "\n",
        "    def forward(self, x, return_attention=False):\n",
        "        x_attn, attn_weights = self.attn(self.norm1(x))\n",
        "\n",
        "\n",
        "\n",
        "        if return_attention: # for attention visualization - do not change\n",
        "            return\n",
        "        # add residual connection\n",
        "        x = x + x_attn\n",
        "\n",
        "        # pre-norm and apply MLP sub-layer\n",
        "        x_mlp = self.mlp(self.norm2(x))\n",
        "\n",
        "        # add residual connection\n",
        "        x = x + x_mlp\n",
        "\n",
        "        return x"
      ],
      "metadata": {
        "id": "ipnL0ALwLqix"
      },
      "execution_count": 6,
      "outputs": []
    },
    {
      "cell_type": "markdown",
      "source": [
        "We now need to embed the input images before they are fed into the encoder. For this, we need a class that will slice an image into patches, then 'flatten' those patches (as one-dimensional tensors) and project them into a linear embedding. We can do this in one step using the `Conv2d` method.\n",
        "\n",
        "Set the `kernel_size` to patch size - this breaks the image up into square patches of the desired shape - and also set the `stride` to patch size, which ensures that there is no overlap between the patches as they are flattened.\n",
        "\n",
        "Finally, set the second argument, `out_channels`, to the size of the embedding dimension: `embed_dim`, the dimensionality of the model. You will pass this value as an argument later when initialising the model."
      ],
      "metadata": {
        "id": "pkxmbstAIoVR"
      }
    },
    {
      "cell_type": "code",
      "source": [
        "class PatchEmbed(nn.Module):\n",
        "    \"\"\" Image to Patch Embedding\n",
        "    \"\"\"\n",
        "    def __init__(self, img_size, patch_size, in_chans, embed_dim):\n",
        "        super().__init__()\n",
        "        num_patches = ... # can infer from image size and patch size. Remember to use // to ensure int type.\n",
        "        self.img_size = img_size\n",
        "        self.patch_size = patch_size\n",
        "        self.num_patches = num_patches\n",
        "\n",
        "        # create embedding using Conv2d\n",
        "        self.proj = torch.nn.Conv2d(in_channels=in_chans,out_channels=embed_dim,kernel_size=patch_size,stride=patch_size)\n",
        "\n",
        "    def forward(self, x):\n",
        "        x = self.proj(x).flatten(2).transpose(1, 2) # apply projection, flatten, and reshape to (batch size, n_patches, d_model)\n",
        "        return x"
      ],
      "metadata": {
        "id": "GH0WiJq8LswJ"
      },
      "execution_count": 9,
      "outputs": []
    },
    {
      "cell_type": "markdown",
      "source": [
        "Finally, we can construct the model architecture, using each of the classes defined above. The forward pass is already defined, so we will complete the positional encoding. Initialise the class variable `self.patch_embed` as an instance of the `PatchEmbed()` class completed above. Then, fill in the tokenisation method `prepare_tokens()` using this instance to create a linear embedding of the data. Finally, complete the encoder with two more learnable parameters: concatenate `[class]` tokens to the linear embedding, then add positional positional encodings to each token.\n",
        "\n",
        "Some hints:\n",
        "- Remember that the input is a *batch* of patch embeddings comprising multiple images. In order to create class tokens for every image in the batch, it is helpful to use the [`.expand()` class function](https://pytorch.org/docs/stable/generated/torch.Tensor.expand.html) to match the first dimension to that of the input. You can then concatenate the class tokens and linear embedding.\n",
        "- Add the positional encoding to each patch+position embedding with a residual connection.\n",
        "- You may find it useful to refer to slides 30 and 36 from the lecture on sequence modelling."
      ],
      "metadata": {
        "id": "XYOUOss4Ijyl"
      }
    },
    {
      "cell_type": "code",
      "source": [
        "class VisionTransformer(nn.Module):\n",
        "    \"\"\" Vision Transformer \"\"\"\n",
        "    def __init__(self, img_size, patch_size, num_classes, embed_dim, depth, num_heads, in_chans=3):\n",
        "        super().__init__()\n",
        "        self.num_features = self.embed_dim = embed_dim\n",
        "\n",
        "        self.patch_embed = PatchEmbed(\n",
        "            img_size=img_size, patch_size=patch_size, in_chans=in_chans, embed_dim=embed_dim)\n",
        "        num_patches = self.patch_embed.num_patches\n",
        "\n",
        "        self.cls_token = nn.Parameter(torch.zeros(1, 1, embed_dim))\n",
        "        self.pos_embed = nn.Parameter(torch.zeros(1, num_patches + 1, embed_dim))\n",
        "\n",
        "        self.blocks = nn.ModuleList([ Block( dim=embed_dim, num_heads=num_heads) for i in range(depth)])\n",
        "        self.norm = nn.LayerNorm(embed_dim)\n",
        "\n",
        "        # Classifier head\n",
        "        self.head = nn.Linear(embed_dim, num_classes) if num_classes > 0 else nn.Identity()\n",
        "\n",
        "    def prepare_tokens(self, x):\n",
        "        x = self.patch_embed(x)  # patch linear embedding, shape (batch size, n_patches, d_model)\n",
        "\n",
        "        # expand the [CLS] token and concat to linear embedding\n",
        "        cls_tokens = self.cls_token.expand(x.size(0), -1, -1)\n",
        "\n",
        "        x = torch.cat((cls_tokens, x), dim=1)\n",
        "\n",
        "        # add positional encoding to each token\n",
        "        x = x + self.pos_embed[:, :x.size(1), :]\n",
        "\n",
        "        # output should be shape (batch size, n_patches+1, d_model)\n",
        "        return x\n",
        "\n",
        "    def forward(self, x):\n",
        "        x = self.prepare_tokens(x)\n",
        "        for blk in self.blocks:\n",
        "            x = blk(x)\n",
        "        x = self.norm(x)\n",
        "        return self.head(x[:, 0])\n",
        "\n",
        "    def get_last_selfattention(self, x):\n",
        "        # for visualisation purposes\n",
        "        x = self.prepare_tokens(x)\n",
        "        for i, blk in enumerate(self.blocks):\n",
        "            if i < len(self.blocks) - 1:\n",
        "                x = blk(x)\n",
        "            else:\n",
        "                # return attention of the last block\n",
        "                return blk(x, return_attention=True)"
      ],
      "metadata": {
        "id": "xDlBKf8ZLvEo"
      },
      "execution_count": 11,
      "outputs": []
    },
    {
      "cell_type": "markdown",
      "source": [
        "## Model Set-up\n",
        "\n",
        "We have provided some utility functions below to download a dataset, train the model, and evaluate and visualise the results.\n",
        "\n",
        "For this experiment we will use the CIFAR-10 dataset, a collection of small images commonly used for image classification tasks in machine learning. There are 10 object classes (airplane, frog, ship...) with 5,000 training and 1,000 testing images per class. You can see some examples of the training images below."
      ],
      "metadata": {
        "id": "1sBLW3v7rybi"
      }
    },
    {
      "cell_type": "code",
      "source": [
        "def class_accuracy(predictions, labels):\n",
        "    y = torch.max(predictions, 1)[1]\n",
        "    y_labels = torch.max(labels, 1)[1]\n",
        "\n",
        "    return torch.mean(y.eq(y_labels).float())"
      ],
      "metadata": {
        "id": "S5R804UhL4Ol"
      },
      "execution_count": null,
      "outputs": []
    },
    {
      "cell_type": "code",
      "source": [
        "def read_cifar():\n",
        "    import torchvision.datasets as datasets\n",
        "    import torchvision.transforms as transforms\n",
        "\n",
        "    # code from https://github.com/jeonsworld/MLP-Mixer-Pytorch/blob/main/utils/data_utils.py\n",
        "    transform_train = transforms.Compose( [ transforms.ToTensor(), ])\n",
        "    transform_test = transforms.Compose( [ transforms.ToTensor(), ])\n",
        "\n",
        "    train_data = datasets.CIFAR10(\n",
        "        root=\"data\", train=True, download=True, transform=transform_train, target_transform=transforms.Lambda(\n",
        "            lambda y: torch.zeros(10).scatter_(0, torch.tensor(y), value=1)\n",
        "        )\n",
        "    )\n",
        "    test_data = datasets.CIFAR10(\n",
        "        root=\"data\", train=False, download=True, transform=transform_test, target_transform=transforms.Lambda(\n",
        "            lambda y: torch.zeros(10).scatter_(0, torch.tensor(y), value=1)\n",
        "        )\n",
        "    )\n",
        "\n",
        "    class DataSets(object):\n",
        "        pass\n",
        "\n",
        "    data_sets = DataSets()\n",
        "\n",
        "    data_sets.train = train_data\n",
        "    data_sets.test = test_data\n",
        "\n",
        "    return data_sets"
      ],
      "metadata": {
        "id": "1x3YVhKgL7R2"
      },
      "execution_count": null,
      "outputs": []
    },
    {
      "cell_type": "code",
      "source": [
        "model = VisionTransformer(img_size=32, patch_size=8, embed_dim=192, depth=3, num_heads=3, num_classes=10)\n",
        "\n",
        "if torch.cuda.is_available(): # i.e. for NVIDIA GPUs\n",
        "    device_type = \"cuda\"\n",
        "else:\n",
        "    device_type = \"cpu\"\n",
        "\n",
        "device = torch.device(device_type) # Select best available device\n",
        "model = model.to(device)\n",
        "\n",
        "print(f'Running on device: {device}')\n",
        "\n",
        "\n",
        "lr = 0.0005\n",
        "weight_decay = 1e-5\n",
        "\n",
        "opt = torch.optim.Adam(\n",
        "    model.parameters(),\n",
        "    lr=lr,\n",
        "    weight_decay=weight_decay,\n",
        ")\n",
        "\n",
        "st = time.time()\n",
        "eval_time = 0\n",
        "\n",
        "n_steps = 0\n",
        "n_test_steps = 0"
      ],
      "metadata": {
        "colab": {
          "base_uri": "https://localhost:8080/"
        },
        "id": "3YHlXkX8MTIr",
        "outputId": "0430de12-05a9-4d63-dcfb-b25860ec9523"
      },
      "execution_count": null,
      "outputs": [
        {
          "output_type": "stream",
          "name": "stdout",
          "text": [
            "Running on device: cuda\n"
          ]
        }
      ]
    },
    {
      "cell_type": "code",
      "source": [
        "def plot_images(dataset, n_images):\n",
        "    img_list = []\n",
        "    fig, axs = plt.subplots(1, n_images, figsize=(n_images * 2, 2))\n",
        "    if n_images == 1:\n",
        "        axs = [axs]\n",
        "    for i, ax in enumerate(axs):\n",
        "        img = dataset[i][0]\n",
        "        img_list.append(img)\n",
        "        label = dataset[i][1]\n",
        "        if img.shape[0] == 3:\n",
        "            img = img.permute(1, 2, 0)\n",
        "\n",
        "        ax.imshow(img)\n",
        "        ax.axis('off')\n",
        "    return img_list\n",
        "\n",
        "def load_dataset(batch_size):\n",
        "    dataset = read_cifar()\n",
        "\n",
        "    ## Dataset\n",
        "    train_dataset = dataset.train\n",
        "    test_dataset = dataset.test\n",
        "    # Use len() to get the number of examples\n",
        "    print(\"Number of training samples: \", len(train_dataset))\n",
        "    print(\"Number of testing samples: \", len(test_dataset))\n",
        "\n",
        "    # Accessing the shape of the images\n",
        "    # Assuming your dataset returns a tuple of (image, label), you can get the shape of the first image as an example\n",
        "    # This line may need to be adjusted depending on how your dataset is structured\n",
        "    print(\"Image shape: \", train_dataset[0][0].shape)\n",
        "\n",
        "    train_sample_images = plot_images(train_dataset, 5)\n",
        "    test_sample_images = plot_images(test_dataset, 5)\n",
        "\n",
        "    train_loader = torch.utils.data.DataLoader(\n",
        "        train_dataset, batch_size=batch_size, shuffle=True\n",
        "    )\n",
        "\n",
        "    test_loader = torch.utils.data.DataLoader(test_dataset, batch_size=1000, shuffle=False)\n",
        "\n",
        "    return train_loader, test_loader, train_sample_images, test_sample_images\n",
        "\n",
        "train_loader, test_loader, train_images, test_images = load_dataset(256)\n",
        "train_images = torch.stack(train_images, dim=0).to(device)\n",
        "test_images = torch.stack(test_images, dim=0).to(device)"
      ],
      "metadata": {
        "colab": {
          "base_uri": "https://localhost:8080/",
          "height": 445
        },
        "id": "da_UZq0FMDFW",
        "outputId": "66e9c529-8921-490e-9a53-5043d293512e"
      },
      "execution_count": null,
      "outputs": [
        {
          "output_type": "stream",
          "name": "stdout",
          "text": [
            "Downloading https://www.cs.toronto.edu/~kriz/cifar-10-python.tar.gz to data/cifar-10-python.tar.gz\n"
          ]
        },
        {
          "output_type": "stream",
          "name": "stderr",
          "text": [
            "100%|██████████| 170498071/170498071 [00:03<00:00, 49258036.86it/s]\n"
          ]
        },
        {
          "output_type": "stream",
          "name": "stdout",
          "text": [
            "Extracting data/cifar-10-python.tar.gz to data\n",
            "Files already downloaded and verified\n",
            "Number of training samples:  50000\n",
            "Number of testing samples:  10000\n",
            "Image shape:  torch.Size([3, 32, 32])\n"
          ]
        },
        {
          "output_type": "display_data",
          "data": {
            "text/plain": [
              "<Figure size 1000x200 with 5 Axes>"
            ],
            "image/png": "[encoded data removed]"
          },
          "metadata": {}
        },
        {
          "output_type": "display_data",
          "data": {
            "text/plain": [
              "<Figure size 1000x200 with 5 Axes>"
            ],
            "image/png": "[encoded data removed]"
          },
          "metadata": {}
        }
      ]
    },
    {
      "cell_type": "markdown",
      "source": [
        "## Training the ViT model\n",
        "Now, we will train the above model. You may wish to set the number of epochs to a small number for debugging and increase the iterations to 100 once you have a working model. Warning: this will take some time to run!"
      ],
      "metadata": {
        "id": "y6cbAjdYscMg"
      }
    },
    {
      "cell_type": "code",
      "source": [
        "for epoch in range(100):\n",
        "    with tqdm(train_loader, unit=\"batch\") as tepoch:\n",
        "        running_loss = 0\n",
        "        running_acc = 0\n",
        "        for n, (batch_data, batch_labels) in enumerate(tepoch, start=1):\n",
        "            tepoch.set_description(f\"Epoch {epoch}\")\n",
        "\n",
        "            batch_data, batch_labels = batch_data.to(device), batch_labels.to(device)\n",
        "\n",
        "            opt.zero_grad()\n",
        "            output = model(batch_data)\n",
        "\n",
        "            logits = F.log_softmax(output, dim=1)\n",
        "            loss = - torch.sum(logits * batch_labels, dim=1).mean()\n",
        "            loss.backward()\n",
        "            opt.step()\n",
        "\n",
        "            acc = class_accuracy(output, batch_labels)\n",
        "\n",
        "            running_loss += loss.item()\n",
        "            running_acc += acc.item()\n",
        "\n",
        "            et = time.time()\n",
        "\n",
        "            if n % 50 == 0:\n",
        "                model.eval()\n",
        "\n",
        "                running_test_loss = 0\n",
        "                running_test_acc = 0\n",
        "\n",
        "                for m, (test_batch_data, test_batch_labels) in enumerate(test_loader, start=1):\n",
        "                    test_batch_data, test_batch_labels = test_batch_data.to(device), test_batch_labels.to(device)\n",
        "\n",
        "                    test_output = model(test_batch_data)\n",
        "                    test_acc = class_accuracy(test_output, test_batch_labels).item()\n",
        "                    running_test_acc += test_acc\n",
        "\n",
        "                running_test_loss /= m\n",
        "                running_test_acc /= m\n",
        "\n",
        "                n_test_steps += 1\n",
        "                tepoch.set_postfix(acc=100 * running_acc / n, test_acc=running_test_acc * 100)\n",
        "                model.train()\n",
        "                eval_time += time.time() - et\n",
        "\n",
        "            n_steps += 1\n",
        "\n",
        "        epoch_time = time.time() - st - eval_time\n",
        "        tepoch.set_postfix(loss=running_loss / n, test_loss=running_test_loss, epoch_time=epoch_time)"
      ],
      "metadata": {
        "colab": {
          "base_uri": "https://localhost:8080/"
        },
        "id": "33aPt3HZMuT_",
        "outputId": "95a4281d-b591-495d-b8c8-6edce17a712e"
      },
      "execution_count": null,
      "outputs": [
        {
          "output_type": "stream",
          "name": "stderr",
          "text": [
            "Epoch 0: 100%|██████████| 196/196 [00:27<00:00,  7.21batch/s, acc=25.9, test_acc=33.9]\n",
            "Epoch 1: 100%|██████████| 196/196 [00:20<00:00,  9.51batch/s, acc=41.5, test_acc=42.8]\n",
            "Epoch 2: 100%|██████████| 196/196 [00:19<00:00,  9.91batch/s, acc=48.1, test_acc=47.6]\n",
            "Epoch 3: 100%|██████████| 196/196 [00:19<00:00, 10.29batch/s, acc=51.7, test_acc=50.4]\n",
            "Epoch 4: 100%|██████████| 196/196 [00:19<00:00, 10.23batch/s, acc=54.4, test_acc=52.3]\n",
            "Epoch 5: 100%|██████████| 196/196 [00:19<00:00, 10.07batch/s, acc=56, test_acc=50.8]\n",
            "Epoch 6: 100%|██████████| 196/196 [00:18<00:00, 10.54batch/s, acc=58.1, test_acc=54]\n",
            "Epoch 7: 100%|██████████| 196/196 [00:19<00:00,  9.88batch/s, acc=60.4, test_acc=53.3]\n",
            "Epoch 8: 100%|██████████| 196/196 [00:18<00:00, 10.49batch/s, acc=61.7, test_acc=53.9]\n",
            "Epoch 9: 100%|██████████| 196/196 [00:19<00:00, 10.10batch/s, acc=63.9, test_acc=54.5]\n",
            "Epoch 10: 100%|██████████| 196/196 [00:18<00:00, 10.42batch/s, acc=65.5, test_acc=54.9]\n",
            "Epoch 11: 100%|██████████| 196/196 [00:19<00:00, 10.13batch/s, acc=67.5, test_acc=55.8]\n",
            "Epoch 12: 100%|██████████| 196/196 [00:22<00:00,  8.61batch/s, acc=69.5, test_acc=55.3]\n",
            "Epoch 13: 100%|██████████| 196/196 [00:18<00:00, 10.44batch/s, acc=71.4, test_acc=55.2]\n",
            "Epoch 14: 100%|██████████| 196/196 [00:19<00:00, 10.10batch/s, acc=73.5, test_acc=55.8]\n",
            "Epoch 15: 100%|██████████| 196/196 [00:19<00:00,  9.98batch/s, acc=75, test_acc=54.1]\n",
            "Epoch 16: 100%|██████████| 196/196 [00:19<00:00, 10.01batch/s, acc=76.9, test_acc=55]\n",
            "Epoch 17: 100%|██████████| 196/196 [00:19<00:00, 10.12batch/s, acc=79, test_acc=55.5]\n",
            "Epoch 18: 100%|██████████| 196/196 [00:19<00:00,  9.89batch/s, acc=81.4, test_acc=54.6]\n",
            "Epoch 19: 100%|██████████| 196/196 [00:19<00:00, 10.13batch/s, acc=82.6, test_acc=55.2]\n",
            "Epoch 20: 100%|██████████| 196/196 [00:19<00:00,  9.99batch/s, acc=84.9, test_acc=54.7]\n",
            "Epoch 21: 100%|██████████| 196/196 [00:18<00:00, 10.36batch/s, acc=86.1, test_acc=54.3]\n",
            "Epoch 22: 100%|██████████| 196/196 [00:19<00:00, 10.10batch/s, acc=87.8, test_acc=53.7]\n",
            "Epoch 23: 100%|██████████| 196/196 [00:18<00:00, 10.48batch/s, acc=89, test_acc=54.4]\n",
            "Epoch 24: 100%|██████████| 196/196 [00:19<00:00, 10.08batch/s, acc=90.3, test_acc=53.5]\n",
            "Epoch 25: 100%|██████████| 196/196 [00:18<00:00, 10.42batch/s, acc=91.5, test_acc=53.7]\n",
            "Epoch 26: 100%|██████████| 196/196 [00:19<00:00, 10.20batch/s, acc=92, test_acc=53.7]\n",
            "Epoch 27: 100%|██████████| 196/196 [00:19<00:00, 10.26batch/s, acc=92.2, test_acc=53.7]\n",
            "Epoch 28: 100%|██████████| 196/196 [00:19<00:00, 10.28batch/s, acc=94, test_acc=54]\n",
            "Epoch 29: 100%|██████████| 196/196 [00:19<00:00, 10.07batch/s, acc=94, test_acc=53.6]\n",
            "Epoch 30: 100%|██████████| 196/196 [00:18<00:00, 10.56batch/s, acc=94.1, test_acc=53.1]\n",
            "Epoch 31: 100%|██████████| 196/196 [00:19<00:00, 10.05batch/s, acc=94.5, test_acc=53.4]\n",
            "Epoch 32: 100%|██████████| 196/196 [00:18<00:00, 10.48batch/s, acc=94.1, test_acc=53.5]\n",
            "Epoch 33: 100%|██████████| 196/196 [00:19<00:00, 10.17batch/s, acc=95.2, test_acc=53.5]\n",
            "Epoch 34: 100%|██████████| 196/196 [00:18<00:00, 10.54batch/s, acc=95.8, test_acc=53.8]\n",
            "Epoch 35: 100%|██████████| 196/196 [00:19<00:00, 10.15batch/s, acc=96.4, test_acc=53.7]\n",
            "Epoch 36: 100%|██████████| 196/196 [00:19<00:00, 10.31batch/s, acc=95.5, test_acc=53]\n",
            "Epoch 37: 100%|██████████| 196/196 [00:18<00:00, 10.34batch/s, acc=95.4, test_acc=53.3]\n",
            "Epoch 38: 100%|██████████| 196/196 [00:19<00:00, 10.13batch/s, acc=95.7, test_acc=53.5]\n",
            "Epoch 39: 100%|██████████| 196/196 [00:18<00:00, 10.48batch/s, acc=96.5, test_acc=53.5]\n",
            "Epoch 40: 100%|██████████| 196/196 [00:19<00:00, 10.09batch/s, acc=96.7, test_acc=54.1]\n",
            "Epoch 41: 100%|██████████| 196/196 [00:18<00:00, 10.49batch/s, acc=97.3, test_acc=53.5]\n",
            "Epoch 42: 100%|██████████| 196/196 [00:19<00:00, 10.12batch/s, acc=95.9, test_acc=52.5]\n",
            "Epoch 43: 100%|██████████| 196/196 [00:18<00:00, 10.39batch/s, acc=96.3, test_acc=53.2]\n",
            "Epoch 44: 100%|██████████| 196/196 [00:19<00:00, 10.22batch/s, acc=96.9, test_acc=53.6]\n",
            "Epoch 45: 100%|██████████| 196/196 [00:19<00:00, 10.15batch/s, acc=97.8, test_acc=54.1]\n",
            "Epoch 46: 100%|██████████| 196/196 [00:18<00:00, 10.38batch/s, acc=97.5, test_acc=53.7]\n",
            "Epoch 47: 100%|██████████| 196/196 [00:19<00:00, 10.16batch/s, acc=96.5, test_acc=53]\n",
            "Epoch 48: 100%|██████████| 196/196 [00:18<00:00, 10.42batch/s, acc=95.1, test_acc=53.3]\n",
            "Epoch 49: 100%|██████████| 196/196 [00:21<00:00,  9.26batch/s, acc=97.1, test_acc=53.3]\n",
            "Epoch 50: 100%|██████████| 196/196 [00:21<00:00,  9.19batch/s, acc=97.9, test_acc=53.4]\n",
            "Epoch 51: 100%|██████████| 196/196 [00:19<00:00, 10.26batch/s, acc=98.4, test_acc=54.2]\n",
            "Epoch 52: 100%|██████████| 196/196 [00:19<00:00, 10.14batch/s, acc=97, test_acc=52.7]\n",
            "Epoch 53: 100%|██████████| 196/196 [00:18<00:00, 10.37batch/s, acc=96, test_acc=52.6]\n",
            "Epoch 54: 100%|██████████| 196/196 [00:19<00:00, 10.27batch/s, acc=95.6, test_acc=53.2]\n",
            "Epoch 55: 100%|██████████| 196/196 [00:19<00:00, 10.13batch/s, acc=97.6, test_acc=53.5]\n",
            "Epoch 56: 100%|██████████| 196/196 [00:18<00:00, 10.53batch/s, acc=98.7, test_acc=53.7]\n",
            "Epoch 57: 100%|██████████| 196/196 [00:19<00:00, 10.07batch/s, acc=99.2, test_acc=54.2]\n",
            "Epoch 58: 100%|██████████| 196/196 [00:18<00:00, 10.53batch/s, acc=96.9, test_acc=53.3]\n",
            "Epoch 59: 100%|██████████| 196/196 [00:19<00:00, 10.11batch/s, acc=95.5, test_acc=52.9]\n",
            "Epoch 60: 100%|██████████| 196/196 [00:18<00:00, 10.48batch/s, acc=97.6, test_acc=53.3]\n",
            "Epoch 61: 100%|██████████| 196/196 [00:19<00:00, 10.17batch/s, acc=97.9, test_acc=53.2]\n",
            "Epoch 62: 100%|██████████| 196/196 [00:19<00:00, 10.27batch/s, acc=97.8, test_acc=53.7]\n",
            "Epoch 63: 100%|██████████| 196/196 [00:20<00:00,  9.46batch/s, acc=97.8, test_acc=53.5]\n",
            "Epoch 64: 100%|██████████| 196/196 [00:19<00:00, 10.14batch/s, acc=97.8, test_acc=53.3]\n",
            "Epoch 65: 100%|██████████| 196/196 [00:19<00:00, 10.10batch/s, acc=97.9, test_acc=53.6]\n",
            "Epoch 66: 100%|██████████| 196/196 [00:21<00:00,  9.10batch/s, acc=97.3, test_acc=53.6]\n",
            "Epoch 67: 100%|██████████| 196/196 [00:20<00:00,  9.74batch/s, acc=97.8, test_acc=53.6]\n",
            "Epoch 68: 100%|██████████| 196/196 [00:18<00:00, 10.37batch/s, acc=97.6, test_acc=53.6]\n",
            "Epoch 69: 100%|██████████| 196/196 [00:19<00:00, 10.03batch/s, acc=97.9, test_acc=53.5]\n",
            "Epoch 70: 100%|██████████| 196/196 [00:18<00:00, 10.32batch/s, acc=97.3, test_acc=53.1]\n",
            "Epoch 71: 100%|██████████| 196/196 [00:20<00:00,  9.77batch/s, acc=98.5, test_acc=53.1]\n",
            "Epoch 72: 100%|██████████| 196/196 [00:20<00:00,  9.65batch/s, acc=97.4, test_acc=53.1]\n",
            "Epoch 73: 100%|██████████| 196/196 [00:19<00:00, 10.27batch/s, acc=97.1, test_acc=53.7]\n",
            "Epoch 74: 100%|██████████| 196/196 [00:19<00:00, 10.02batch/s, acc=98.2, test_acc=53.8]\n",
            "Epoch 75: 100%|██████████| 196/196 [00:18<00:00, 10.39batch/s, acc=98.7, test_acc=53.1]\n",
            "Epoch 76: 100%|██████████| 196/196 [00:19<00:00, 10.12batch/s, acc=99.6, test_acc=53.5]\n",
            "Epoch 77: 100%|██████████| 196/196 [00:19<00:00, 10.08batch/s, acc=99.2, test_acc=54]\n",
            "Epoch 78: 100%|██████████| 196/196 [00:18<00:00, 10.39batch/s, acc=95.2, test_acc=52.1]\n",
            "Epoch 79: 100%|██████████| 196/196 [00:19<00:00, 10.00batch/s, acc=96.9, test_acc=53.6]\n",
            "Epoch 80: 100%|██████████| 196/196 [00:19<00:00, 10.16batch/s, acc=98.3, test_acc=53.9]\n",
            "Epoch 81: 100%|██████████| 196/196 [00:19<00:00,  9.90batch/s, acc=99.3, test_acc=54.2]\n",
            "Epoch 82: 100%|██████████| 196/196 [00:19<00:00, 10.19batch/s, acc=99.8, test_acc=54.4]\n",
            "Epoch 83: 100%|██████████| 196/196 [00:19<00:00, 10.07batch/s, acc=100, test_acc=54.6]\n",
            "Epoch 84: 100%|██████████| 196/196 [00:19<00:00,  9.99batch/s, acc=100, test_acc=54.8]\n",
            "Epoch 85: 100%|██████████| 196/196 [00:19<00:00, 10.26batch/s, acc=100, test_acc=54.6]\n",
            "Epoch 86: 100%|██████████| 196/196 [00:19<00:00,  9.97batch/s, acc=100, test_acc=54.6]\n",
            "Epoch 87: 100%|██████████| 196/196 [00:19<00:00, 10.26batch/s, acc=100, test_acc=54.7]\n",
            "Epoch 88: 100%|██████████| 196/196 [00:19<00:00, 10.03batch/s, acc=100, test_acc=54.8]\n",
            "Epoch 89: 100%|██████████| 196/196 [00:19<00:00, 10.09batch/s, acc=100, test_acc=54.8]\n",
            "Epoch 90: 100%|██████████| 196/196 [00:18<00:00, 10.49batch/s, acc=100, test_acc=54.9]\n",
            "Epoch 91: 100%|██████████| 196/196 [00:19<00:00,  9.99batch/s, acc=100, test_acc=54.9]\n",
            "Epoch 92: 100%|██████████| 196/196 [00:18<00:00, 10.49batch/s, acc=100, test_acc=55]\n",
            "Epoch 93: 100%|██████████| 196/196 [00:19<00:00, 10.04batch/s, acc=100, test_acc=55]\n",
            "Epoch 94: 100%|██████████| 196/196 [00:20<00:00,  9.64batch/s, acc=100, test_acc=55]\n",
            "Epoch 95: 100%|██████████| 196/196 [00:20<00:00,  9.40batch/s, acc=100, test_acc=55.1]\n",
            "Epoch 96: 100%|██████████| 196/196 [00:19<00:00,  9.93batch/s, acc=100, test_acc=55.1]\n",
            "Epoch 97: 100%|██████████| 196/196 [00:19<00:00, 10.16batch/s, acc=100, test_acc=55.1]\n",
            "Epoch 98: 100%|██████████| 196/196 [00:20<00:00,  9.79batch/s, acc=100, test_acc=55.3]\n",
            "Epoch 99: 100%|██████████| 196/196 [00:19<00:00, 10.13batch/s, acc=100, test_acc=55.2]\n"
          ]
        }
      ]
    },
    {
      "cell_type": "markdown",
      "source": [
        "## Visualising attention\n",
        "We can visualise the attention of the model by creating a heat map of the patches according to their learned attention weights. These weights represent the importance the model gives to each patch when processing the image, where brighter patches correspond to higher attention. Here, we see three heat maps, one for each attention head in the model."
      ],
      "metadata": {
        "id": "GXCSJrmjs9a3"
      }
    },
    {
      "cell_type": "code",
      "source": [
        "# visualize the attention\n",
        "def vis_attention(img, model):\n",
        "    w_featmap = img.shape[-2] // 8 # patch size is 8\n",
        "    h_featmap = img.shape[-1] // 8\n",
        "\n",
        "    attentions = model.get_last_selfattention(img).detach()\n",
        "\n",
        "    nh = attentions.shape[1] # number of head\n",
        "\n",
        "    # we keep only the output patch attention\n",
        "    attentions = attentions[0, :, 0, 1:].reshape(nh, -1)\n",
        "\n",
        "    attentions = attentions.reshape(nh, w_featmap, h_featmap)\n",
        "    attentions = nn.functional.interpolate(attentions.unsqueeze(0), scale_factor=8, mode=\"nearest\")[0].cpu().numpy()\n",
        "\n",
        "    # save attentions heatmaps\n",
        "    fig, axs = plt.subplots(1, 1 + nh, figsize=(nh * 2, 2))\n",
        "\n",
        "    for i, ax in enumerate(axs):\n",
        "      if i == 0:\n",
        "        ax.imshow(img[0].permute(1, 2, 0).cpu().numpy())\n",
        "      else:\n",
        "        ax.imshow(attentions[i-1])\n",
        "      ax.axis('off')\n",
        "\n",
        "print('On training images:')\n",
        "for img in train_images:\n",
        "  vis_attention(img[None], model)"
      ],
      "metadata": {
        "colab": {
          "base_uri": "https://localhost:8080/",
          "height": 639
        },
        "id": "SOasSrRKNZXS",
        "outputId": "000a878d-aba4-43d0-b5f4-e5df3975f7ff"
      },
      "execution_count": null,
      "outputs": [
        {
          "output_type": "stream",
          "name": "stdout",
          "text": [
            "On training images:\n"
          ]
        },
        {
          "output_type": "display_data",
          "data": {
            "text/plain": [
              "<Figure size 600x200 with 4 Axes>"
            ],
            "image/png": "[encoded data removed]"
          },
          "metadata": {}
        },
        {
          "output_type": "display_data",
          "data": {
            "text/plain": [
              "<Figure size 600x200 with 4 Axes>"
            ],
            "image/png": "[encoded data removed]"
          },
          "metadata": {}
        },
        {
          "output_type": "display_data",
          "data": {
            "text/plain": [
              "<Figure size 600x200 with 4 Axes>"
            ],
            "image/png": "[encoded data removed]"
          },
          "metadata": {}
        },
        {
          "output_type": "display_data",
          "data": {
            "text/plain": [
              "<Figure size 600x200 with 4 Axes>"
            ],
            "image/png": "[encoded data removed]"
          },
          "metadata": {}
        },
        {
          "output_type": "display_data",
          "data": {
            "text/plain": [
              "<Figure size 600x200 with 4 Axes>"
            ],
            "image/png": "[encoded data removed]"
          },
          "metadata": {}
        }
      ]
    }
  ]
}